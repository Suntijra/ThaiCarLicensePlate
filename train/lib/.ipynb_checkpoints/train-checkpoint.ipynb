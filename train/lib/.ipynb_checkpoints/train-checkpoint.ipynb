{
 "cells": [
  {
   "cell_type": "code",
   "execution_count": 2,
   "id": "4bb15e56-c7f6-4270-b405-ae349767611a",
   "metadata": {},
   "outputs": [],
   "source": [
    "import os\n",
    "import numpy as np\n",
    "import cv2\n",
    "import tensorflow as tf\n",
    "from tensorflow.keras.utils import to_categorical\n",
    "from tensorflow.keras.callbacks import EarlyStopping, ModelCheckpoint"
   ]
  },
  {
   "cell_type": "code",
   "execution_count": 3,
   "id": "5c921527-d34b-4e30-945f-4b97e244ace4",
   "metadata": {},
   "outputs": [],
   "source": [
    "def loadImages(data_path, size=(50,50)):\n",
    "     x = []\n",
    "     t = []\n",
    "     classes = os.listdir(data_path)\n",
    "     for ic in range(len(classes)):\n",
    "          filenames = os.listdir(f\"{data_path}/{classes[ic]}\")\n",
    "          for ifile in range(len(filenames)):\n",
    "               filename = f\"{data_path}/{classes[ic]}/{filenames[ifile]}\"\n",
    "               print(f\"\\rload {filename} ... {ifile+1}/{len(filenames)}\",end=\" \"*10)\n",
    "               image = cv2.imread(filename)\n",
    "               image = cv2.cvtColor(image, cv2.COLOR_BGR2GRAY)\n",
    "               image = cv2.resize(image, size)/255\n",
    "               image = np.dstack([image])\n",
    "               x.append(image)\n",
    "               t.append(ic)\n",
    "     x = np.array(x, dtype=np.float32)\n",
    "     t = np.array(t, dtype=np.float32)\n",
    "     return x, t"
   ]
  },
  {
   "cell_type": "code",
   "execution_count": 4,
   "id": "b1bf2da1-d74a-42cd-ab30-569106a18f6d",
   "metadata": {},
   "outputs": [],
   "source": [
    "# set parameters\n",
    "data_path = \"D:/study/thai_alphabet/data/char_pre_processed_v3_2\"\n",
    "save_data = \"data_loaded3.mat\"\n",
    "model_filename = \"../models/best_model2.h5\""
   ]
  },
  {
   "cell_type": "code",
   "execution_count": null,
   "id": "26c218e7-8a0e-4509-86cb-1e3c921bd8f3",
   "metadata": {},
   "outputs": [],
   "source": [
    "# load images\n",
    "x_train, t_train = loadImages(f\"{data_path}/train\")\n",
    "x_val, t_val = loadImages(f\"{data_path}/val\")\n",
    "x_test, t_test = loadImages(f\"{data_path}/test\")\n",
    "print(f\"train size\",x_train.shape, t_train.shape)\n",
    "print(f\"val size\",x_val.shape, t_val.shape)\n",
    "print(f\"test size\",x_test.shape, t_test.shape)"
   ]
  },
  {
   "cell_type": "code",
   "execution_count": null,
   "id": "d83a7391-c5a8-42cc-91fd-697221b9e68c",
   "metadata": {},
   "outputs": [],
   "source": [
    "# model structure\n",
    "model = tf.keras.Sequential([\n",
    "tf.keras.layers.Conv2D(16, (3,3), padding='same', activation='relu',input_shape=(80, 80, 1)),\n",
    "tf.keras.layers.MaxPooling2D(pool_size=(2,2)),\n",
    "tf.keras.layers.Conv2D(32, (3,3), padding='same', activation='relu'),\n",
    "tf.keras.layers.MaxPooling2D(pool_size=(3,3)),\n",
    "tf.keras.layers.Conv2D(64, (3,3), padding='same', activation='relu'),\n",
    "tf.keras.layers.MaxPooling2D(pool_size=(5,5)),\n",
    "tf.keras.layers.Flatten(),\n",
    "tf.keras.layers.Dense(128),\n",
    "tf.keras.layers.Dense(54 ,activation='softmax')\n",
    "])\n",
    "model.compile(optimizer='adam',\n",
    "       loss='sparse_categorical_crossentropy',\n",
    "       metrics=['accuracy'])\n",
    "es = EarlyStopping(monitor='val_loss', mode='min', verbose=1, patience=5)\n",
    "mc = ModelCheckpoint(model_filename, monitor='val_loss', mode='min', verbose=1, save_best_only=True)"
   ]
  },
  {
   "cell_type": "code",
   "execution_count": null,
   "id": "f2e17b92-6c03-47de-9c04-75e9d8d15a17",
   "metadata": {},
   "outputs": [],
   "source": [
    "# training\n",
    "model.fit(x_train, t_train, validation_data=(x_val, t_val), callbacks=[es,mc], epochs=100000)"
   ]
  }
 ],
 "metadata": {
  "kernelspec": {
   "display_name": "Python 3 (ipykernel)",
   "language": "python",
   "name": "python3"
  },
  "language_info": {
   "codemirror_mode": {
    "name": "ipython",
    "version": 3
   },
   "file_extension": ".py",
   "mimetype": "text/x-python",
   "name": "python",
   "nbconvert_exporter": "python",
   "pygments_lexer": "ipython3",
   "version": "3.7.13"
  }
 },
 "nbformat": 4,
 "nbformat_minor": 5
}
