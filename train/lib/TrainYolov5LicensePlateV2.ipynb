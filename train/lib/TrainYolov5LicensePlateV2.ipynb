{
  "cells": [
    {
      "cell_type": "code",
      "execution_count": 1,
      "metadata": {
        "colab": {
          "base_uri": "https://localhost:8080/"
        },
        "id": "CDv3zoDu6341",
        "outputId": "4d309a5d-856b-43ab-e49d-0611ee11d90b"
      },
      "outputs": [
        {
          "output_type": "stream",
          "name": "stdout",
          "text": [
            "Cloning into 'yolov5'...\n",
            "remote: Enumerating objects: 15291, done.\u001b[K\n",
            "remote: Counting objects: 100% (4/4), done.\u001b[K\n",
            "remote: Compressing objects: 100% (4/4), done.\u001b[K\n",
            "remote: Total 15291 (delta 0), reused 1 (delta 0), pack-reused 15287\u001b[K\n",
            "Receiving objects: 100% (15291/15291), 14.19 MiB | 24.07 MiB/s, done.\n",
            "Resolving deltas: 100% (10483/10483), done.\n",
            "/content/yolov5\n",
            "HEAD is now at fbe67e4 Fix `OMP_NUM_THREADS=1` for macOS (#8624)\n"
          ]
        }
      ],
      "source": [
        "# clone YOLOv5 repository\n",
        "!git clone https://github.com/ultralytics/yolov5  # clone repo\n",
        "%cd yolov5\n",
        "!git reset --hard fbe67e465375231474a2ad80a4389efc77ecff99"
      ]
    },
    {
      "cell_type": "code",
      "execution_count": 2,
      "metadata": {
        "colab": {
          "base_uri": "https://localhost:8080/"
        },
        "id": "W6bClfmV8W_6",
        "outputId": "eaf24ab0-fb2d-4989-d24a-5b25dce3f4c3"
      },
      "outputs": [
        {
          "output_type": "stream",
          "name": "stdout",
          "text": [
            "\u001b[?25l     \u001b[90m━━━━━━━━━━━━━━━━━━━━━━━━━━━━━━━━━━━━━━━━\u001b[0m \u001b[32m0.0/1.6 MB\u001b[0m \u001b[31m?\u001b[0m eta \u001b[36m-:--:--\u001b[0m\r\u001b[2K     \u001b[90m━━━━━━━━━━━━━━━━━━━━━━━━━━━━━━━━━━━━━━━━\u001b[0m \u001b[32m1.6/1.6 MB\u001b[0m \u001b[31m49.7 MB/s\u001b[0m eta \u001b[36m0:00:00\u001b[0m\n",
            "\u001b[?25hSetup complete. Using torch 1.13.1+cu116 _CudaDeviceProperties(name='Tesla T4', major=7, minor=5, total_memory=15101MB, multi_processor_count=40)\n"
          ]
        }
      ],
      "source": [
        "# install dependencies as necessary\n",
        "!pip install -qr requirements.txt  # install dependencies (ignore errors)\n",
        "import torch\n",
        "\n",
        "from IPython.display import Image, clear_output  # to display images\n",
        "from utils.downloads import attempt_download  # to download models/datasets\n",
        "\n",
        "# clear_output()\n",
        "print('Setup complete. Using torch %s %s' % (torch.__version__, torch.cuda.get_device_properties(0) if torch.cuda.is_available() else 'CPU'))"
      ]
    },
    {
      "cell_type": "code",
      "source": [
        "from IPython.display import Image, clear_output\n",
        "!pip install roboflow\n",
        "clear_output()"
      ],
      "metadata": {
        "id": "QmF0cytUp8x1"
      },
      "execution_count": 3,
      "outputs": []
    },
    {
      "cell_type": "code",
      "source": [
        "from roboflow import Roboflow\n",
        "rf = Roboflow(api_key=\"fMhXA9q45prDjqc3nnAK\", model_format=\"yolov5\")\n",
        "car_dataset = rf.workspace().project(\"deeptest2\").version(1).download(location=\"/content/my-datasets/licencePlateData\")"
      ],
      "metadata": {
        "colab": {
          "base_uri": "https://localhost:8080/"
        },
        "id": "ij5sjwZRp-tF",
        "outputId": "315b1752-413f-4196-97eb-b5bcc291126a"
      },
      "execution_count": 5,
      "outputs": [
        {
          "output_type": "stream",
          "name": "stdout",
          "text": [
            "loading Roboflow workspace...\n",
            "loading Roboflow project...\n",
            "Downloading Dataset Version Zip in /content/my-datasets/licencePlateData to yolov5pytorch: 100% [190435880 / 190435880] bytes\n"
          ]
        },
        {
          "output_type": "stream",
          "name": "stderr",
          "text": [
            "Extracting Dataset Version Zip to /content/my-datasets/licencePlateData in yolov5pytorch:: 100%|██████████| 2912/2912 [00:01<00:00, 1939.90it/s]\n"
          ]
        }
      ]
    },
    {
      "cell_type": "code",
      "source": [
        "import yaml\n",
        "with open(\"/content/my-datasets/licencePlateData\" + \"/data.yaml\", 'r') as stream:\n",
        "    num_classes = str(yaml.safe_load(stream)['nc'])"
      ],
      "metadata": {
        "id": "HnM-M6_sqWkV"
      },
      "execution_count": 8,
      "outputs": []
    },
    {
      "cell_type": "code",
      "execution_count": 10,
      "metadata": {
        "colab": {
          "base_uri": "https://localhost:8080/"
        },
        "id": "kbGLVvsX8XCc",
        "outputId": "9d51007b-0219-4296-a1b8-2dd197f70a9b"
      },
      "outputs": [
        {
          "output_type": "stream",
          "name": "stdout",
          "text": [
            "names:\n",
            "- Letter\n",
            "- province\n",
            "nc: 2\n",
            "roboflow:\n",
            "  license: CC BY 4.0\n",
            "  project: deeptest2\n",
            "  url: https://universe.roboflow.com/project/deeptest2/dataset/1\n",
            "  version: 1\n",
            "  workspace: project\n",
            "test: ../test/images\n",
            "train: /content/my-datasets/licencePlateData/train/images\n",
            "val: /content/my-datasets/licencePlateData/valid/images\n"
          ]
        }
      ],
      "source": [
        "# this is the YAML file Roboflow wrote for us that we're loading into this notebook with our data\n",
        "%cat /content/my-datasets/licencePlateData/data.yaml"
      ]
    },
    {
      "cell_type": "code",
      "execution_count": 11,
      "metadata": {
        "colab": {
          "base_uri": "https://localhost:8080/"
        },
        "id": "Gm-enKXd8niT",
        "outputId": "a68b8cb3-6492-490e-ce68-821a85d25d1b"
      },
      "outputs": [
        {
          "output_type": "stream",
          "name": "stdout",
          "text": [
            "# YOLOv5 🚀 by Ultralytics, GPL-3.0 license\n",
            "\n",
            "# Parameters\n",
            "nc: 80  # number of classes\n",
            "depth_multiple: 0.33  # model depth multiple\n",
            "width_multiple: 0.50  # layer channel multiple\n",
            "anchors:\n",
            "  - [10,13, 16,30, 33,23]  # P3/8\n",
            "  - [30,61, 62,45, 59,119]  # P4/16\n",
            "  - [116,90, 156,198, 373,326]  # P5/32\n",
            "\n",
            "# YOLOv5 v6.0 backbone\n",
            "backbone:\n",
            "  # [from, number, module, args]\n",
            "  [[-1, 1, Conv, [64, 6, 2, 2]],  # 0-P1/2\n",
            "   [-1, 1, Conv, [128, 3, 2]],  # 1-P2/4\n",
            "   [-1, 3, C3, [128]],\n",
            "   [-1, 1, Conv, [256, 3, 2]],  # 3-P3/8\n",
            "   [-1, 6, C3, [256]],\n",
            "   [-1, 1, Conv, [512, 3, 2]],  # 5-P4/16\n",
            "   [-1, 9, C3, [512]],\n",
            "   [-1, 1, Conv, [1024, 3, 2]],  # 7-P5/32\n",
            "   [-1, 3, C3, [1024]],\n",
            "   [-1, 1, SPPF, [1024, 5]],  # 9\n",
            "  ]\n",
            "\n",
            "# YOLOv5 v6.0 head\n",
            "head:\n",
            "  [[-1, 1, Conv, [512, 1, 1]],\n",
            "   [-1, 1, nn.Upsample, [None, 2, 'nearest']],\n",
            "   [[-1, 6], 1, Concat, [1]],  # cat backbone P4\n",
            "   [-1, 3, C3, [512, False]],  # 13\n",
            "\n",
            "   [-1, 1, Conv, [256, 1, 1]],\n",
            "   [-1, 1, nn.Upsample, [None, 2, 'nearest']],\n",
            "   [[-1, 4], 1, Concat, [1]],  # cat backbone P3\n",
            "   [-1, 3, C3, [256, False]],  # 17 (P3/8-small)\n",
            "\n",
            "   [-1, 1, Conv, [256, 3, 2]],\n",
            "   [[-1, 14], 1, Concat, [1]],  # cat head P4\n",
            "   [-1, 3, C3, [512, False]],  # 20 (P4/16-medium)\n",
            "\n",
            "   [-1, 1, Conv, [512, 3, 2]],\n",
            "   [[-1, 10], 1, Concat, [1]],  # cat head P5\n",
            "   [-1, 3, C3, [1024, False]],  # 23 (P5/32-large)\n",
            "\n",
            "   [[17, 20, 23], 1, Detect, [nc, anchors]],  # Detect(P3, P4, P5)\n",
            "  ]\n"
          ]
        }
      ],
      "source": [
        "#this is the model configuration we will use for our tutorial \n",
        "%cat /content/yolov5/models/yolov5s.yaml"
      ]
    },
    {
      "cell_type": "code",
      "execution_count": 12,
      "metadata": {
        "id": "apZWSZPg8nlG"
      },
      "outputs": [],
      "source": [
        "#customize iPython writefile so we can write variables\n",
        "from IPython.core.magic import register_line_cell_magic\n",
        "\n",
        "@register_line_cell_magic\n",
        "def writetemplate(line, cell):\n",
        "    with open(line, 'w') as f:\n",
        "        f.write(cell.format(**globals()))"
      ]
    },
    {
      "cell_type": "code",
      "execution_count": 15,
      "metadata": {
        "id": "rV_Jedu68nn0"
      },
      "outputs": [],
      "source": [
        "%%writetemplate /content/yolov5/models/custom_yolov5s.yaml\n",
        "\n",
        "# parameters\n",
        "nc: 1  # number of classes\n",
        "depth_multiple: 0.33  # model depth multiple\n",
        "width_multiple: 0.50  # layer channel multiple\n",
        "\n",
        "# anchors\n",
        "anchors:\n",
        "  - [10,13, 16,30, 33,23]  # P3/8\n",
        "  - [30,61, 62,45, 59,119]  # P4/16\n",
        "  - [116,90, 156,198, 373,326]  # P5/32\n",
        "\n",
        "# YOLOv5 backbone\n",
        "backbone:\n",
        "  # [from, number, module, args]\n",
        "  [[-1, 1, Focus, [64, 3]],  # 0-P1/2\n",
        "   [-1, 1, Conv, [128, 3, 2]],  # 1-P2/4\n",
        "   [-1, 3, BottleneckCSP, [128]],\n",
        "   [-1, 1, Conv, [256, 3, 2]],  # 3-P3/8\n",
        "   [-1, 9, BottleneckCSP, [256]],\n",
        "   [-1, 1, Conv, [512, 3, 2]],  # 5-P4/16\n",
        "   [-1, 9, BottleneckCSP, [512]],\n",
        "   [-1, 1, Conv, [1024, 3, 2]],  # 7-P5/32\n",
        "   [-1, 1, SPP, [1024, [5, 9, 13]]],\n",
        "   [-1, 3, BottleneckCSP, [1024, False]],  # 9\n",
        "  ]\n",
        "\n",
        "# YOLOv5 head\n",
        "head:\n",
        "  [[-1, 1, Conv, [512, 1, 1]],\n",
        "   [-1, 1, nn.Upsample, [None, 2, 'nearest']],\n",
        "   [[-1, 6], 1, Concat, [1]],  # cat backbone P4\n",
        "   [-1, 3, BottleneckCSP, [512, False]],  # 13\n",
        "\n",
        "   [-1, 1, Conv, [256, 1, 1]],\n",
        "   [-1, 1, nn.Upsample, [None, 2, 'nearest']],\n",
        "   [[-1, 4], 1, Concat, [1]],  # cat backbone P3\n",
        "   [-1, 3, BottleneckCSP, [256, False]],  # 17 (P3/8-small)\n",
        "\n",
        "   [-1, 1, Conv, [256, 3, 2]],\n",
        "   [[-1, 14], 1, Concat, [1]],  # cat head P4\n",
        "   [-1, 3, BottleneckCSP, [512, False]],  # 20 (P4/16-medium)\n",
        "\n",
        "   [-1, 1, Conv, [512, 3, 2]],\n",
        "   [[-1, 10], 1, Concat, [1]],  # cat head P5\n",
        "   [-1, 3, BottleneckCSP, [1024, False]],  # 23 (P5/32-large)\n",
        "\n",
        "   [[17, 20, 23], 1, Detect, [nc, anchors]],  # Detect(P3, P4, P5)\n",
        "  ]"
      ]
    },
    {
      "cell_type": "code",
      "execution_count": 16,
      "metadata": {
        "colab": {
          "base_uri": "https://localhost:8080/"
        },
        "id": "0tp4219M8nqg",
        "outputId": "6669897f-4ad7-411c-fa69-cf47c49e99ab"
      },
      "outputs": [
        {
          "output_type": "stream",
          "name": "stdout",
          "text": [
            "/content/yolov5\n",
            "\u001b[34m\u001b[1mtrain: \u001b[0mweights=, cfg=./models/custom_yolov5s.yaml, data=/content/my-datasets/licencePlateData/data.yaml, hyp=data/hyps/hyp.scratch-low.yaml, epochs=300, batch_size=16, imgsz=416, rect=False, resume=False, nosave=False, noval=False, noautoanchor=False, noplots=False, evolve=None, bucket=, cache=ram, image_weights=False, device=, multi_scale=False, single_cls=False, optimizer=SGD, sync_bn=False, workers=8, project=runs/train, name=yolov5s_results9, exist_ok=False, quad=False, cos_lr=False, label_smoothing=0.0, patience=100, freeze=[0], save_period=-1, seed=0, local_rank=-1, entity=None, upload_dataset=False, bbox_interval=-1, artifact_alias=latest\n",
            "\u001b[34m\u001b[1mgithub: \u001b[0m⚠️ YOLOv5 is out of date by 481 commits. Use `git pull` or `git clone https://github.com/ultralytics/yolov5` to update.\n",
            "YOLOv5 🚀 v6.1-306-gfbe67e4 Python-3.8.10 torch-1.13.1+cu116 CUDA:0 (Tesla T4, 15102MiB)\n",
            "\n",
            "\u001b[34m\u001b[1mhyperparameters: \u001b[0mlr0=0.01, lrf=0.01, momentum=0.937, weight_decay=0.0005, warmup_epochs=3.0, warmup_momentum=0.8, warmup_bias_lr=0.1, box=0.05, cls=0.5, cls_pw=1.0, obj=1.0, obj_pw=1.0, iou_t=0.2, anchor_t=4.0, fl_gamma=0.0, hsv_h=0.015, hsv_s=0.7, hsv_v=0.4, degrees=0.0, translate=0.1, scale=0.5, shear=0.0, perspective=0.0, flipud=0.0, fliplr=0.5, mosaic=1.0, mixup=0.0, copy_paste=0.0\n",
            "\u001b[34m\u001b[1mWeights & Biases: \u001b[0mrun 'pip install wandb' to automatically track and visualize YOLOv5 🚀 runs (RECOMMENDED)\n",
            "\u001b[34m\u001b[1mTensorBoard: \u001b[0mStart with 'tensorboard --logdir runs/train', view at http://localhost:6006/\n",
            "2023-03-08 05:25:22.537856: I tensorflow/core/platform/cpu_feature_guard.cc:193] This TensorFlow binary is optimized with oneAPI Deep Neural Network Library (oneDNN) to use the following CPU instructions in performance-critical operations:  AVX2 FMA\n",
            "To enable them in other operations, rebuild TensorFlow with the appropriate compiler flags.\n",
            "2023-03-08 05:25:23.471765: W tensorflow/compiler/xla/stream_executor/platform/default/dso_loader.cc:64] Could not load dynamic library 'libnvinfer.so.7'; dlerror: libnvinfer.so.7: cannot open shared object file: No such file or directory; LD_LIBRARY_PATH: /usr/local/lib/python3.8/dist-packages/cv2/../../lib64:/usr/local/lib/python3.8/dist-packages/cv2/../../lib64:/usr/lib64-nvidia\n",
            "2023-03-08 05:25:23.471901: W tensorflow/compiler/xla/stream_executor/platform/default/dso_loader.cc:64] Could not load dynamic library 'libnvinfer_plugin.so.7'; dlerror: libnvinfer_plugin.so.7: cannot open shared object file: No such file or directory; LD_LIBRARY_PATH: /usr/local/lib/python3.8/dist-packages/cv2/../../lib64:/usr/local/lib/python3.8/dist-packages/cv2/../../lib64:/usr/lib64-nvidia\n",
            "2023-03-08 05:25:23.471922: W tensorflow/compiler/tf2tensorrt/utils/py_utils.cc:38] TF-TRT Warning: Cannot dlopen some TensorRT libraries. If you would like to use Nvidia GPU with TensorRT, please make sure the missing libraries mentioned above are installed properly.\n",
            "Downloading https://ultralytics.com/assets/Arial.ttf to /root/.config/Ultralytics/Arial.ttf...\n",
            "100% 755k/755k [00:00<00:00, 116MB/s]\n",
            "Overriding model.yaml nc=1 with nc=2\n",
            "\n",
            "                 from  n    params  module                                  arguments                     \n",
            "  0                -1  1      3520  models.common.Focus                     [3, 32, 3]                    \n",
            "  1                -1  1     18560  models.common.Conv                      [32, 64, 3, 2]                \n",
            "  2                -1  1     19904  models.common.BottleneckCSP             [64, 64, 1]                   \n",
            "  3                -1  1     73984  models.common.Conv                      [64, 128, 3, 2]               \n",
            "  4                -1  3    161152  models.common.BottleneckCSP             [128, 128, 3]                 \n",
            "  5                -1  1    295424  models.common.Conv                      [128, 256, 3, 2]              \n",
            "  6                -1  3    641792  models.common.BottleneckCSP             [256, 256, 3]                 \n",
            "  7                -1  1   1180672  models.common.Conv                      [256, 512, 3, 2]              \n",
            "  8                -1  1    656896  models.common.SPP                       [512, 512, [5, 9, 13]]        \n",
            "  9                -1  1   1248768  models.common.BottleneckCSP             [512, 512, 1, False]          \n",
            " 10                -1  1    131584  models.common.Conv                      [512, 256, 1, 1]              \n",
            " 11                -1  1         0  torch.nn.modules.upsampling.Upsample    [None, 2, 'nearest']          \n",
            " 12           [-1, 6]  1         0  models.common.Concat                    [1]                           \n",
            " 13                -1  1    378624  models.common.BottleneckCSP             [512, 256, 1, False]          \n",
            " 14                -1  1     33024  models.common.Conv                      [256, 128, 1, 1]              \n",
            " 15                -1  1         0  torch.nn.modules.upsampling.Upsample    [None, 2, 'nearest']          \n",
            " 16           [-1, 4]  1         0  models.common.Concat                    [1]                           \n",
            " 17                -1  1     95104  models.common.BottleneckCSP             [256, 128, 1, False]          \n",
            " 18                -1  1    147712  models.common.Conv                      [128, 128, 3, 2]              \n",
            " 19          [-1, 14]  1         0  models.common.Concat                    [1]                           \n",
            " 20                -1  1    313088  models.common.BottleneckCSP             [256, 256, 1, False]          \n",
            " 21                -1  1    590336  models.common.Conv                      [256, 256, 3, 2]              \n",
            " 22          [-1, 10]  1         0  models.common.Concat                    [1]                           \n",
            " 23                -1  1   1248768  models.common.BottleneckCSP             [512, 512, 1, False]          \n",
            " 24      [17, 20, 23]  1     18879  models.yolo.Detect                      [2, [[10, 13, 16, 30, 33, 23], [30, 61, 62, 45, 59, 119], [116, 90, 156, 198, 373, 326]], [128, 256, 512]]\n",
            "custom_YOLOv5s summary: 283 layers, 7257791 parameters, 7257791 gradients, 16.9 GFLOPs\n",
            "\n",
            "\u001b[34m\u001b[1mAMP: \u001b[0mchecks passed ✅\n",
            "Scaled weight_decay = 0.0005\n",
            "\u001b[34m\u001b[1moptimizer:\u001b[0m SGD with parameter groups 59 weight (no decay), 70 weight, 62 bias\n",
            "\u001b[34m\u001b[1malbumentations: \u001b[0mBlur(always_apply=False, p=0.01, blur_limit=(3, 7)), MedianBlur(always_apply=False, p=0.01, blur_limit=(3, 7)), ToGray(always_apply=False, p=0.01), CLAHE(always_apply=False, p=0.01, clip_limit=(1, 4.0), tile_grid_size=(8, 8))\n",
            "\u001b[34m\u001b[1mtrain: \u001b[0mScanning '/content/my-datasets/licencePlateData/train/labels' images and labels...1192 found, 0 missing, 0 empty, 0 corrupt: 100% 1192/1192 [00:00<00:00, 1785.74it/s]\n",
            "\u001b[34m\u001b[1mtrain: \u001b[0mNew cache created: /content/my-datasets/licencePlateData/train/labels.cache\n",
            "\u001b[34m\u001b[1mtrain: \u001b[0mCaching images (0.6GB ram): 100% 1192/1192 [00:09<00:00, 127.22it/s]\n",
            "\u001b[34m\u001b[1mval: \u001b[0mScanning '/content/my-datasets/licencePlateData/valid/labels' images and labels...125 found, 0 missing, 0 empty, 0 corrupt: 100% 125/125 [00:00<00:00, 387.93it/s]\n",
            "\u001b[34m\u001b[1mval: \u001b[0mNew cache created: /content/my-datasets/licencePlateData/valid/labels.cache\n",
            "\u001b[34m\u001b[1mval: \u001b[0mCaching images (0.1GB ram): 100% 125/125 [00:01<00:00, 84.51it/s] \n",
            "Plotting labels to runs/train/yolov5s_results9/labels.jpg... \n",
            "\n",
            "\u001b[34m\u001b[1mAutoAnchor: \u001b[0m4.64 anchors/target, 0.999 Best Possible Recall (BPR). Current anchors are a good fit to dataset ✅\n",
            "Image sizes 416 train, 416 val\n",
            "Using 2 dataloader workers\n",
            "Logging results to \u001b[1mruns/train/yolov5s_results9\u001b[0m\n",
            "Starting training for 300 epochs...\n",
            "\n",
            "     Epoch   gpu_mem       box       obj       cls    labels  img_size\n",
            "     0/299     1.76G   0.09418   0.08217   0.02454        92       416: 100% 75/75 [00:25<00:00,  2.98it/s]\n",
            "               Class     Images     Labels          P          R     mAP@.5 mAP@.5:.95: 100% 4/4 [00:02<00:00,  1.52it/s]\n",
            "                 all        125        897    0.00731      0.271    0.00603   0.000957\n",
            "\n",
            "     Epoch   gpu_mem       box       obj       cls    labels  img_size\n",
            "     1/299     2.16G   0.08645   0.08735   0.01977       134       416: 100% 75/75 [00:17<00:00,  4.40it/s]\n",
            "               Class     Images     Labels          P          R     mAP@.5 mAP@.5:.95: 100% 4/4 [00:01<00:00,  2.19it/s]\n",
            "                 all        125        897    0.00851      0.394     0.0756     0.0127\n",
            "\n",
            "     Epoch   gpu_mem       box       obj       cls    labels  img_size\n",
            "     2/299     2.16G   0.08309    0.0822    0.0154       146       416: 100% 75/75 [00:17<00:00,  4.36it/s]\n",
            "               Class     Images     Labels          P          R     mAP@.5 mAP@.5:.95: 100% 4/4 [00:01<00:00,  2.15it/s]\n",
            "                 all        125        897     0.0504      0.144      0.056     0.0136\n",
            "\n",
            "     Epoch   gpu_mem       box       obj       cls    labels  img_size\n",
            "     3/299     2.16G   0.07532   0.07456  0.008466        64       416: 100% 75/75 [00:16<00:00,  4.47it/s]\n",
            "               Class     Images     Labels          P          R     mAP@.5 mAP@.5:.95: 100% 4/4 [00:01<00:00,  2.96it/s]\n",
            "                 all        125        897      0.314      0.556      0.334     0.0902\n",
            "\n",
            "     Epoch   gpu_mem       box       obj       cls    labels  img_size\n",
            "     4/299     2.16G   0.06808   0.07029  0.004848       117       416: 100% 75/75 [00:17<00:00,  4.17it/s]\n",
            "               Class     Images     Labels          P          R     mAP@.5 mAP@.5:.95: 100% 4/4 [00:01<00:00,  3.67it/s]\n",
            "                 all        125        897      0.359       0.63      0.475      0.155\n",
            "\n",
            "     Epoch   gpu_mem       box       obj       cls    labels  img_size\n",
            "     5/299     2.16G   0.06153   0.06877  0.003712       213       416:   9% 7/75 [00:02<00:23,  2.94it/s]\n",
            "Traceback (most recent call last):\n",
            "  File \"train.py\", line 642, in <module>\n",
            "    main(opt)\n",
            "  File \"train.py\", line 537, in main\n",
            "    train(opt.hyp, opt, device, callbacks)\n",
            "  File \"train.py\", line 335, in train\n",
            "    scaler.scale(loss).backward()\n",
            "  File \"/usr/local/lib/python3.8/dist-packages/torch/_tensor.py\", line 488, in backward\n",
            "    torch.autograd.backward(\n",
            "  File \"/usr/local/lib/python3.8/dist-packages/torch/autograd/__init__.py\", line 197, in backward\n",
            "    Variable._execution_engine.run_backward(  # Calls into the C++ engine to run the backward pass\n",
            "KeyboardInterrupt\n",
            "^C\n",
            "CPU times: user 1.54 s, sys: 205 ms, total: 1.75 s\n",
            "Wall time: 2min 26s\n"
          ]
        }
      ],
      "source": [
        "# train yolov5s on custom data for 100 epochs\n",
        "# time its performance\n",
        "%%time\n",
        "%cd /content/yolov5/\n",
        "!python train.py --img 416 --batch 16 --epochs 300 --data /content/my-datasets/licencePlateData/data.yaml --cfg ./models/custom_yolov5s.yaml --weights '' --name yolov5s_results9  --cache"
      ]
    },
    {
      "cell_type": "code",
      "execution_count": 18,
      "metadata": {
        "id": "aOmAsMzV9Sdo",
        "colab": {
          "base_uri": "https://localhost:8080/",
          "height": 1000
        },
        "outputId": "49eff698-5845-4535-de12-0be9c95d3106"
      },
      "outputs": [
        {
          "output_type": "stream",
          "name": "stdout",
          "text": [
            "  adding: content/yolov5/ (stored 0%)\n",
            "  adding: content/yolov5/.pre-commit-config.yaml (deflated 60%)\n",
            "  adding: content/yolov5/.gitattributes (deflated 4%)\n",
            "  adding: content/yolov5/.github/ (stored 0%)\n",
            "  adding: content/yolov5/.github/SECURITY.md (deflated 33%)\n",
            "  adding: content/yolov5/.github/workflows/ (stored 0%)\n",
            "  adding: content/yolov5/.github/workflows/docker.yml (deflated 66%)\n",
            "  adding: content/yolov5/.github/workflows/rebase.yml (deflated 45%)\n",
            "  adding: content/yolov5/.github/workflows/stale.yml (deflated 59%)\n",
            "  adding: content/yolov5/.github/workflows/greetings.yml (deflated 62%)\n",
            "  adding: content/yolov5/.github/workflows/codeql-analysis.yml (deflated 52%)\n",
            "  adding: content/yolov5/.github/workflows/ci-testing.yml (deflated 69%)\n",
            "  adding: content/yolov5/.github/CODE_OF_CONDUCT.md (deflated 60%)\n",
            "  adding: content/yolov5/.github/README_cn.md (deflated 69%)\n",
            "  adding: content/yolov5/.github/dependabot.yml (deflated 60%)\n",
            "  adding: content/yolov5/.github/ISSUE_TEMPLATE/ (stored 0%)\n",
            "  adding: content/yolov5/.github/ISSUE_TEMPLATE/config.yml (deflated 36%)\n",
            "  adding: content/yolov5/.github/ISSUE_TEMPLATE/feature-request.yml (deflated 61%)\n",
            "  adding: content/yolov5/.github/ISSUE_TEMPLATE/bug-report.yml (deflated 59%)\n",
            "  adding: content/yolov5/.github/ISSUE_TEMPLATE/question.yml (deflated 57%)\n",
            "  adding: content/yolov5/.github/PULL_REQUEST_TEMPLATE.md (deflated 40%)\n",
            "  adding: content/yolov5/utils/ (stored 0%)\n",
            "  adding: content/yolov5/utils/augmentations.py (deflated 63%)\n",
            "  adding: content/yolov5/utils/docker/ (stored 0%)\n",
            "  adding: content/yolov5/utils/docker/Dockerfile (deflated 54%)\n",
            "  adding: content/yolov5/utils/docker/Dockerfile-cpu (deflated 51%)\n",
            "  adding: content/yolov5/utils/docker/Dockerfile-arm64 (deflated 51%)\n",
            "  adding: content/yolov5/utils/docker/.dockerignore (deflated 56%)\n",
            "  adding: content/yolov5/utils/metrics.py (deflated 66%)\n",
            "  adding: content/yolov5/utils/loss.py (deflated 69%)\n",
            "  adding: content/yolov5/utils/general.py (deflated 65%)\n",
            "  adding: content/yolov5/utils/benchmarks.py (deflated 69%)\n",
            "  adding: content/yolov5/utils/autoanchor.py (deflated 60%)\n",
            "  adding: content/yolov5/utils/plots.py (deflated 65%)\n",
            "  adding: content/yolov5/utils/__pycache__/ (stored 0%)\n",
            "  adding: content/yolov5/utils/__pycache__/torch_utils.cpython-38.pyc (deflated 44%)\n",
            "  adding: content/yolov5/utils/__pycache__/metrics.cpython-38.pyc (deflated 47%)\n",
            "  adding: content/yolov5/utils/__pycache__/dataloaders.cpython-38.pyc (deflated 50%)\n",
            "  adding: content/yolov5/utils/__pycache__/__init__.cpython-38.pyc (deflated 29%)\n",
            "  adding: content/yolov5/utils/__pycache__/downloads.cpython-38.pyc (deflated 42%)\n",
            "  adding: content/yolov5/utils/__pycache__/autoanchor.cpython-38.pyc (deflated 42%)\n",
            "  adding: content/yolov5/utils/__pycache__/callbacks.cpython-38.pyc (deflated 55%)\n",
            "  adding: content/yolov5/utils/__pycache__/autobatch.cpython-38.pyc (deflated 35%)\n",
            "  adding: content/yolov5/utils/__pycache__/augmentations.cpython-38.pyc (deflated 45%)\n",
            "  adding: content/yolov5/utils/__pycache__/loss.cpython-38.pyc (deflated 46%)\n",
            "  adding: content/yolov5/utils/__pycache__/general.cpython-38.pyc (deflated 50%)\n",
            "  adding: content/yolov5/utils/__pycache__/plots.cpython-38.pyc (deflated 45%)\n",
            "  adding: content/yolov5/utils/dataloaders.py (deflated 71%)\n",
            "  adding: content/yolov5/utils/loggers/ (stored 0%)\n",
            "  adding: content/yolov5/utils/loggers/__pycache__/ (stored 0%)\n",
            "  adding: content/yolov5/utils/loggers/__pycache__/__init__.cpython-38.pyc (deflated 47%)\n",
            "  adding: content/yolov5/utils/loggers/__init__.py (deflated 66%)\n",
            "  adding: content/yolov5/utils/loggers/wandb/ (stored 0%)\n",
            "  adding: content/yolov5/utils/loggers/wandb/sweep.yaml (deflated 73%)\n",
            "  adding: content/yolov5/utils/loggers/wandb/log_dataset.py (deflated 52%)\n",
            "  adding: content/yolov5/utils/loggers/wandb/__pycache__/ (stored 0%)\n",
            "  adding: content/yolov5/utils/loggers/wandb/__pycache__/__init__.cpython-38.pyc (deflated 25%)\n",
            "  adding: content/yolov5/utils/loggers/wandb/__pycache__/wandb_utils.cpython-38.pyc (deflated 52%)\n",
            "  adding: content/yolov5/utils/loggers/wandb/README.md (deflated 62%)\n",
            "  adding: content/yolov5/utils/loggers/wandb/__init__.py (stored 0%)\n",
            "  adding: content/yolov5/utils/loggers/wandb/sweep.py (deflated 53%)\n",
            "  adding: content/yolov5/utils/loggers/wandb/wandb_utils.py (deflated 75%)\n",
            "  adding: content/yolov5/utils/flask_rest_api/ (stored 0%)\n",
            "  adding: content/yolov5/utils/flask_rest_api/example_request.py (deflated 26%)\n",
            "  adding: content/yolov5/utils/flask_rest_api/README.md (deflated 52%)\n",
            "  adding: content/yolov5/utils/flask_rest_api/restapi.py (deflated 46%)\n",
            "  adding: content/yolov5/utils/autobatch.py (deflated 55%)\n",
            "  adding: content/yolov5/utils/torch_utils.py (deflated 63%)\n",
            "  adding: content/yolov5/utils/__init__.py (deflated 46%)\n",
            "  adding: content/yolov5/utils/downloads.py (deflated 65%)\n",
            "  adding: content/yolov5/utils/aws/ (stored 0%)\n",
            "  adding: content/yolov5/utils/aws/resume.py (deflated 46%)\n",
            "  adding: content/yolov5/utils/aws/mime.sh (deflated 46%)\n",
            "  adding: content/yolov5/utils/aws/userdata.sh (deflated 47%)\n",
            "  adding: content/yolov5/utils/aws/__init__.py (stored 0%)\n",
            "  adding: content/yolov5/utils/callbacks.py (deflated 69%)\n",
            "  adding: content/yolov5/utils/google_app_engine/ (stored 0%)\n",
            "  adding: content/yolov5/utils/google_app_engine/Dockerfile (deflated 47%)\n",
            "  adding: content/yolov5/utils/google_app_engine/additional_requirements.txt (deflated 10%)\n",
            "  adding: content/yolov5/utils/google_app_engine/app.yaml (deflated 26%)\n",
            "  adding: content/yolov5/utils/activations.py (deflated 68%)\n",
            "  adding: content/yolov5/__pycache__/ (stored 0%)\n",
            "  adding: content/yolov5/__pycache__/val.cpython-38.pyc (deflated 43%)\n",
            "  adding: content/yolov5/export.py (deflated 73%)\n",
            "  adding: content/yolov5/runs/ (stored 0%)\n",
            "  adding: content/yolov5/runs/train/ (stored 0%)\n",
            "  adding: content/yolov5/runs/train/yolov5s_results9/ (stored 0%)\n",
            "  adding: content/yolov5/runs/train/yolov5s_results9/opt.yaml (deflated 43%)\n",
            "  adding: content/yolov5/runs/train/yolov5s_results9/train_batch2.jpg (deflated 1%)\n",
            "  adding: content/yolov5/runs/train/yolov5s_results9/hyp.yaml (deflated 45%)\n",
            "  adding: content/yolov5/runs/train/yolov5s_results9/labels_correlogram.jpg (deflated 36%)\n",
            "  adding: content/yolov5/runs/train/yolov5s_results9/labels.jpg (deflated 35%)\n",
            "  adding: content/yolov5/runs/train/yolov5s_results9/train_batch1.jpg (deflated 1%)\n",
            "  adding: content/yolov5/runs/train/yolov5s_results9/events.out.tfevents.1678253124.bbd38f2ada07.2312.0 (deflated 93%)\n",
            "  adding: content/yolov5/runs/train/yolov5s_results9/weights/ (stored 0%)\n",
            "  adding: content/yolov5/runs/train/yolov5s_results9/weights/last.pt (deflated 9%)\n",
            "  adding: content/yolov5/runs/train/yolov5s_results9/weights/best.pt (deflated 9%)\n",
            "  adding: content/yolov5/runs/train/yolov5s_results9/train_batch0.jpg (deflated 1%)\n",
            "  adding: content/yolov5/runs/train/yolov5s_results9/results.csv (deflated 77%)\n",
            "  adding: content/yolov5/data/ (stored 0%)\n",
            "  adding: content/yolov5/data/scripts/ (stored 0%)\n",
            "  adding: content/yolov5/data/scripts/get_coco128.sh (deflated 36%)\n",
            "  adding: content/yolov5/data/scripts/download_weights.sh (deflated 37%)\n",
            "  adding: content/yolov5/data/scripts/get_coco.sh (deflated 47%)\n",
            "  adding: content/yolov5/data/Argoverse.yaml (deflated 56%)\n",
            "  adding: content/yolov5/data/hyps/ (stored 0%)\n",
            "  adding: content/yolov5/data/hyps/hyp.scratch-high.yaml (deflated 53%)\n",
            "  adding: content/yolov5/data/hyps/hyp.Objects365.yaml (deflated 40%)\n",
            "  adding: content/yolov5/data/hyps/hyp.scratch-low.yaml (deflated 54%)\n",
            "  adding: content/yolov5/data/hyps/hyp.scratch-med.yaml (deflated 53%)\n",
            "  adding: content/yolov5/data/hyps/hyp.VOC.yaml (deflated 48%)\n",
            "  adding: content/yolov5/data/VOC.yaml (deflated 56%)\n",
            "  adding: content/yolov5/data/Objects365.yaml (deflated 57%)\n",
            "  adding: content/yolov5/data/coco128.yaml (deflated 50%)\n",
            "  adding: content/yolov5/data/VisDrone.yaml (deflated 59%)\n",
            "  adding: content/yolov5/data/SKU-110K.yaml (deflated 52%)\n",
            "  adding: content/yolov5/data/coco.yaml (deflated 52%)\n",
            "  adding: content/yolov5/data/GlobalWheat2020.yaml (deflated 54%)\n",
            "  adding: content/yolov5/data/images/ (stored 0%)\n",
            "  adding: content/yolov5/data/images/bus.jpg (deflated 1%)\n",
            "  adding: content/yolov5/data/images/zidane.jpg (deflated 0%)\n",
            "  adding: content/yolov5/data/xView.yaml (deflated 58%)\n",
            "  adding: content/yolov5/README.md (deflated 72%)\n",
            "  adding: content/yolov5/models/ (stored 0%)\n",
            "  adding: content/yolov5/models/yolov5l.yaml (deflated 61%)\n",
            "  adding: content/yolov5/models/tf.py (deflated 73%)\n",
            "  adding: content/yolov5/models/yolov5x.yaml (deflated 60%)\n",
            "  adding: content/yolov5/models/yolo.py (deflated 65%)\n",
            "  adding: content/yolov5/models/__pycache__/ (stored 0%)\n",
            "  adding: content/yolov5/models/__pycache__/__init__.cpython-38.pyc (deflated 28%)\n",
            "  adding: content/yolov5/models/__pycache__/experimental.cpython-38.pyc (deflated 45%)\n",
            "  adding: content/yolov5/models/__pycache__/yolo.cpython-38.pyc (deflated 46%)\n",
            "  adding: content/yolov5/models/__pycache__/common.cpython-38.pyc (deflated 56%)\n",
            "  adding: content/yolov5/models/hub/ (stored 0%)\n",
            "  adding: content/yolov5/models/hub/yolov5-p7.yaml (deflated 69%)\n",
            "  adding: content/yolov5/models/hub/yolov5-panet.yaml (deflated 60%)\n",
            "  adding: content/yolov5/models/hub/yolov5s6.yaml (deflated 65%)\n",
            "  adding: content/yolov5/models/hub/yolov5n6.yaml (deflated 65%)\n",
            "  adding: content/yolov5/models/hub/yolov5s-transformer.yaml (deflated 60%)\n",
            "  adding: content/yolov5/models/hub/yolov5x6.yaml (deflated 65%)\n",
            "  adding: content/yolov5/models/hub/yolov5-bifpn.yaml (deflated 60%)\n",
            "  adding: content/yolov5/models/hub/yolov5-p6.yaml (deflated 66%)\n",
            "  adding: content/yolov5/models/hub/yolov5-p2.yaml (deflated 66%)\n",
            "  adding: content/yolov5/models/hub/anchors.yaml (deflated 72%)\n",
            "  adding: content/yolov5/models/hub/yolov3.yaml (deflated 63%)\n",
            "  adding: content/yolov5/models/hub/yolov3-spp.yaml (deflated 63%)\n",
            "  adding: content/yolov5/models/hub/yolov5-p34.yaml (deflated 62%)\n",
            "  adding: content/yolov5/models/hub/yolov3-tiny.yaml (deflated 60%)\n",
            "  adding: content/yolov5/models/hub/yolov5-fpn.yaml (deflated 57%)\n",
            "  adding: content/yolov5/models/hub/yolov5l6.yaml (deflated 65%)\n",
            "  adding: content/yolov5/models/hub/yolov5s-ghost.yaml (deflated 62%)\n",
            "  adding: content/yolov5/models/hub/yolov5m6.yaml (deflated 65%)\n",
            "  adding: content/yolov5/models/yolov5n.yaml (deflated 60%)\n",
            "  adding: content/yolov5/models/yolov5s.yaml (deflated 60%)\n",
            "  adding: content/yolov5/models/experimental.py (deflated 58%)\n",
            "  adding: content/yolov5/models/yolov5m.yaml (deflated 60%)\n",
            "  adding: content/yolov5/models/common.py (deflated 71%)\n",
            "  adding: content/yolov5/models/__init__.py (stored 0%)\n",
            "  adding: content/yolov5/models/custom_yolov5s.yaml (deflated 63%)\n",
            "  adding: content/yolov5/LICENSE (deflated 66%)\n",
            "  adding: content/yolov5/CONTRIBUTING.md (deflated 56%)\n",
            "  adding: content/yolov5/detect.py (deflated 68%)\n",
            "  adding: content/yolov5/.git/ (stored 0%)\n",
            "  adding: content/yolov5/.git/hooks/ (stored 0%)\n",
            "  adding: content/yolov5/.git/hooks/pre-commit.sample (deflated 45%)\n",
            "  adding: content/yolov5/.git/hooks/pre-push.sample (deflated 50%)\n",
            "  adding: content/yolov5/.git/hooks/pre-applypatch.sample (deflated 38%)\n",
            "  adding: content/yolov5/.git/hooks/pre-receive.sample (deflated 40%)\n",
            "  adding: content/yolov5/.git/hooks/post-update.sample (deflated 27%)\n",
            "  adding: content/yolov5/.git/hooks/fsmonitor-watchman.sample (deflated 52%)\n",
            "  adding: content/yolov5/.git/hooks/commit-msg.sample (deflated 44%)\n",
            "  adding: content/yolov5/.git/hooks/pre-merge-commit.sample (deflated 39%)\n",
            "  adding: content/yolov5/.git/hooks/applypatch-msg.sample (deflated 42%)\n",
            "  adding: content/yolov5/.git/hooks/prepare-commit-msg.sample (deflated 50%)\n",
            "  adding: content/yolov5/.git/hooks/pre-rebase.sample (deflated 59%)\n",
            "  adding: content/yolov5/.git/hooks/update.sample (deflated 68%)\n",
            "  adding: content/yolov5/.git/FETCH_HEAD (deflated 66%)\n",
            "  adding: content/yolov5/.git/HEAD (stored 0%)\n",
            "  adding: content/yolov5/.git/ORIG_HEAD (stored 0%)\n",
            "  adding: content/yolov5/.git/branches/ (stored 0%)\n",
            "  adding: content/yolov5/.git/objects/ (stored 0%)\n",
            "  adding: content/yolov5/.git/objects/pack/ (stored 0%)\n",
            "  adding: content/yolov5/.git/objects/pack/pack-cc6f38a9cb5fb05fb35f433c965589d72d5af335.pack (deflated 2%)\n",
            "  adding: content/yolov5/.git/objects/pack/pack-cc6f38a9cb5fb05fb35f433c965589d72d5af335.idx (deflated 2%)\n",
            "  adding: content/yolov5/.git/objects/info/ (stored 0%)\n",
            "  adding: content/yolov5/.git/refs/ (stored 0%)\n",
            "  adding: content/yolov5/.git/refs/tags/ (stored 0%)\n",
            "  adding: content/yolov5/.git/refs/remotes/ (stored 0%)\n",
            "  adding: content/yolov5/.git/refs/remotes/origin/ (stored 0%)\n",
            "  adding: content/yolov5/.git/refs/remotes/origin/HEAD (stored 0%)\n",
            "  adding: content/yolov5/.git/refs/heads/ (stored 0%)\n",
            "  adding: content/yolov5/.git/refs/heads/master (stored 0%)\n",
            "  adding: content/yolov5/.git/packed-refs (deflated 50%)\n",
            "  adding: content/yolov5/.git/index (deflated 53%)\n",
            "  adding: content/yolov5/.git/info/ (stored 0%)\n",
            "  adding: content/yolov5/.git/info/exclude (deflated 28%)\n",
            "  adding: content/yolov5/.git/logs/ (stored 0%)\n",
            "  adding: content/yolov5/.git/logs/HEAD (deflated 52%)\n",
            "  adding: content/yolov5/.git/logs/refs/ (stored 0%)\n",
            "  adding: content/yolov5/.git/logs/refs/remotes/ (stored 0%)\n",
            "  adding: content/yolov5/.git/logs/refs/remotes/origin/ (stored 0%)\n",
            "  adding: content/yolov5/.git/logs/refs/remotes/origin/HEAD (deflated 28%)\n",
            "  adding: content/yolov5/.git/logs/refs/heads/ (stored 0%)\n",
            "  adding: content/yolov5/.git/logs/refs/heads/master (deflated 52%)\n",
            "  adding: content/yolov5/.git/description (deflated 14%)\n",
            "  adding: content/yolov5/.git/config (deflated 33%)\n",
            "  adding: content/yolov5/requirements.txt (deflated 50%)\n",
            "  adding: content/yolov5/hubconf.py (deflated 73%)\n",
            "  adding: content/yolov5/val.py (deflated 67%)\n",
            "  adding: content/yolov5/.gitignore (deflated 55%)\n",
            "  adding: content/yolov5/train.py (deflated 69%)\n",
            "  adding: content/yolov5/tutorial.ipynb (deflated 79%)\n",
            "  adding: content/yolov5/setup.cfg (deflated 46%)\n"
          ]
        },
        {
          "output_type": "display_data",
          "data": {
            "text/plain": [
              "<IPython.core.display.Javascript object>"
            ],
            "application/javascript": [
              "\n",
              "    async function download(id, filename, size) {\n",
              "      if (!google.colab.kernel.accessAllowed) {\n",
              "        return;\n",
              "      }\n",
              "      const div = document.createElement('div');\n",
              "      const label = document.createElement('label');\n",
              "      label.textContent = `Downloading \"${filename}\": `;\n",
              "      div.appendChild(label);\n",
              "      const progress = document.createElement('progress');\n",
              "      progress.max = size;\n",
              "      div.appendChild(progress);\n",
              "      document.body.appendChild(div);\n",
              "\n",
              "      const buffers = [];\n",
              "      let downloaded = 0;\n",
              "\n",
              "      const channel = await google.colab.kernel.comms.open(id);\n",
              "      // Send a message to notify the kernel that we're ready.\n",
              "      channel.send({})\n",
              "\n",
              "      for await (const message of channel.messages) {\n",
              "        // Send a message to notify the kernel that we're ready.\n",
              "        channel.send({})\n",
              "        if (message.buffers) {\n",
              "          for (const buffer of message.buffers) {\n",
              "            buffers.push(buffer);\n",
              "            downloaded += buffer.byteLength;\n",
              "            progress.value = downloaded;\n",
              "          }\n",
              "        }\n",
              "      }\n",
              "      const blob = new Blob(buffers, {type: 'application/binary'});\n",
              "      const a = document.createElement('a');\n",
              "      a.href = window.URL.createObjectURL(blob);\n",
              "      a.download = filename;\n",
              "      div.appendChild(a);\n",
              "      a.click();\n",
              "      div.remove();\n",
              "    }\n",
              "  "
            ]
          },
          "metadata": {}
        },
        {
          "output_type": "display_data",
          "data": {
            "text/plain": [
              "<IPython.core.display.Javascript object>"
            ],
            "application/javascript": [
              "download(\"download_53d0cb13-ca0c-4b6d-b5c8-eae2a141c276\", \"yolov5.zip\", 125299598)"
            ]
          },
          "metadata": {}
        }
      ],
      "source": [
        "!zip -r /content/yolov5.zip /content/yolov5\n",
        "from google.colab import files\n",
        "files.download('/content/yolov5.zip')"
      ]
    },
    {
      "cell_type": "code",
      "execution_count": null,
      "metadata": {
        "id": "R_2EIAtD9Sif"
      },
      "outputs": [],
      "source": []
    },
    {
      "cell_type": "code",
      "execution_count": null,
      "metadata": {
        "id": "DfysWZp18ny-"
      },
      "outputs": [],
      "source": []
    },
    {
      "cell_type": "code",
      "execution_count": null,
      "metadata": {
        "id": "1JgOk3m18XH9"
      },
      "outputs": [],
      "source": []
    },
    {
      "cell_type": "code",
      "execution_count": null,
      "metadata": {
        "id": "g9Zy34ec8XKn"
      },
      "outputs": [],
      "source": []
    }
  ],
  "metadata": {
    "accelerator": "GPU",
    "colab": {
      "provenance": []
    },
    "gpuClass": "standard",
    "kernelspec": {
      "display_name": "Python 3",
      "language": "python",
      "name": "python3"
    },
    "language_info": {
      "name": "python",
      "version": "3.7.0 (v3.7.0:1bf9cc5093, Jun 27 2018, 04:59:51) [MSC v.1914 64 bit (AMD64)]"
    },
    "vscode": {
      "interpreter": {
        "hash": "d49c3f6d6dd49f9272b571d9fad348ab55b8c6c3f691520d74ed0af1f69c3dd8"
      }
    }
  },
  "nbformat": 4,
  "nbformat_minor": 0
}